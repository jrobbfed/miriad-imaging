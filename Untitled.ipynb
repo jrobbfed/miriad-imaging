{
 "cells": [
  {
   "cell_type": "code",
   "execution_count": 90,
   "metadata": {
    "collapsed": true
   },
   "outputs": [],
   "source": [
    "carma_pntgs = 'cell1_pointings_carma.txt'\n",
    "carma_header_start = 97\n",
    "carma_data_start = 98\n",
    "carma_data_end = 223\n",
    "nro_pntgs = 'cell1_pointings_nro.txt'\n",
    "from astropy.io import ascii\n",
    "from astropy.coordinates import SkyCoord\n",
    "import astropy.units as u\n",
    "import matplotlib.pyplot as plt\n",
    "import numpy as np"
   ]
  },
  {
   "cell_type": "code",
   "execution_count": 37,
   "metadata": {
    "collapsed": true
   },
   "outputs": [],
   "source": [
    "carma_table = ascii.read(carma_pntgs, format='fixed_width_no_header', \n",
    "           names=('Source', 'RA', 'DEC', 'dra', 'ddec'), \n",
    "           col_starts=(0,23,37,56,68), data_start=73, \n",
    "           data_end=199)"
   ]
  },
  {
   "cell_type": "code",
   "execution_count": 38,
   "metadata": {
    "collapsed": false,
    "scrolled": true
   },
   "outputs": [],
   "source": [
    "nro_table = ascii.read(nro_pntgs, format='fixed_width_no_header', \n",
    "           names=('Source', 'RA', 'DEC', 'dra', 'ddec'), \n",
    "           col_starts=(0,23,37,56,68), data_start=143, \n",
    "           data_end=269)\n"
   ]
  },
  {
   "cell_type": "code",
   "execution_count": 73,
   "metadata": {
    "collapsed": false
   },
   "outputs": [],
   "source": [
    "carma_ref_coord = SkyCoord(ra=carma_table['RA'][0],\n",
    "                           dec=carma_table['DEC'][0],\n",
    "                          unit=(u.hourangle, u.degree))\n",
    "carma_pntg_offsets = SkyCoord(ra=carma_table['dra']*u.arcsec,\n",
    "                              dec=carma_table['ddec']*u.arcsec)\n",
    "carma_pntg_coords = SkyCoord(ra=carma_ref_coord.ra + carma_pntg_offsets.ra,\n",
    "                             dec=carma_ref_coord.dec + carma_pntg_offsets.dec)\n",
    "\n"
   ]
  },
  {
   "cell_type": "code",
   "execution_count": 170,
   "metadata": {
    "collapsed": false
   },
   "outputs": [],
   "source": [
    "nro_ref_coord = SkyCoord(ra=nro_table['RA'][0],\n",
    "                            dec=nro_table['DEC'][0],\n",
    "                            unit=(u.hourangle, u.degree))\n",
    "nro_pntg_offsets = SkyCoord(ra=nro_table['dra'] * u.arcsec,\n",
    "                            dec=nro_table['ddec'] * u.arcsec)\n",
    "nro_pntg_coords = SkyCoord(ra=nro_ref_coord.ra + nro_pntg_offsets.ra,\n",
    "                            dec=nro_ref_coord.dec + nro_pntg_offsets.dec)\n",
    "#nro_ind = np.lexsort((nro_pntg_coords[:, 1], nro_pntg_coords[:, 0]))\n",
    "#carma_ind = np.lexsort((carma_pntg_coords[:, 1], carma_pntg_coords[:, 0]))\n",
    "#nro_pntg_coords = np.array(nro_pntg_coords.ra.value, nro_pntg_coords.dec.value],\n",
    "                         #  dtype=np.dtype([('ra',float),('dec',float)])).swapaxes(0,1)\n",
    "#nro_pntg_coords = np.array([nro_pntg_coords.ra.value, nro_pntg_coords.dec.value],\n",
    "#                           dtype=np.dtype([('ra',float),('dec',float)]))"
   ]
  },
  {
   "cell_type": "code",
   "execution_count": 177,
   "metadata": {
    "collapsed": false
   },
   "outputs": [
    {
     "data": {
      "text/plain": [
       "(array([ 83.81254444,  83.81254444,  83.81254444,  83.81254444,\n",
       "         83.81254444,  83.81254444,  83.81768333,  83.81768333,\n",
       "         83.81768333,  83.81768333,  83.81768333,  83.81768333,\n",
       "         83.82282222,  83.82282222,  83.82282222,  83.82282222,\n",
       "         83.82282222,  83.82282222,  83.82796111,  83.82796111,\n",
       "         83.82796111,  83.82796111,  83.82796111,  83.82796111,\n",
       "         83.83309722,  83.83309722,  83.83309722,  83.83309722,\n",
       "         83.83309722,  83.83309722,  83.83823611,  83.83823611,\n",
       "         83.83823611,  83.83823611,  83.83823611,  83.83823611,\n",
       "         83.843375  ,  83.843375  ,  83.843375  ,  83.843375  ,\n",
       "         83.843375  ,  83.843375  ,  83.84851389,  83.84851389,\n",
       "         83.84851389,  83.84851389,  83.84851389,  83.84851389,\n",
       "         83.85365278,  83.85365278,  83.85365278,  83.85365278,\n",
       "         83.85365278,  83.85365278,  83.85879167,  83.85879167,\n",
       "         83.85879167,  83.85879167,  83.85879167,  83.85879167,\n",
       "         83.86393056,  83.86393056,  83.86393056,  83.86393056,\n",
       "         83.86393056,  83.86393056,  83.86906944,  83.86906944,\n",
       "         83.86906944,  83.86906944,  83.86906944,  83.86906944,\n",
       "         83.87420833,  83.87420833,  83.87420833,  83.87420833,\n",
       "         83.87420833,  83.87420833,  83.87934722,  83.87934722,\n",
       "         83.87934722,  83.87934722,  83.87934722,  83.87934722,\n",
       "         83.88448611,  83.88448611,  83.88448611,  83.88448611,\n",
       "         83.88448611,  83.88448611,  83.889625  ,  83.889625  ,\n",
       "         83.889625  ,  83.889625  ,  83.889625  ,  83.889625  ,\n",
       "         83.89476389,  83.89476389,  83.89476389,  83.89476389,\n",
       "         83.89476389,  83.89476389,  83.89990278,  83.89990278,\n",
       "         83.89990278,  83.89990278,  83.89990278,  83.89990278,\n",
       "         83.90504167,  83.90504167,  83.90504167,  83.90504167,\n",
       "         83.90504167,  83.90504167,  83.91018056,  83.91018056,\n",
       "         83.91018056,  83.91018056,  83.91018056,  83.91018056,\n",
       "         83.91531944,  83.91531944,  83.91531944,  83.91531944,\n",
       "         83.91531944,  83.91531944]),\n",
       " array([-5.43089167, -5.41309167, -5.39528889, -5.37748611, -5.35968611,\n",
       "        -5.34188333, -5.42199167, -5.40418889, -5.38638889, -5.36858611,\n",
       "        -5.35078611, -5.33298333, -5.43089167, -5.41309167, -5.39528889,\n",
       "        -5.37748611, -5.35968611, -5.34188333, -5.42199167, -5.40418889,\n",
       "        -5.38638889, -5.36858611, -5.35078611, -5.33298333, -5.43089167,\n",
       "        -5.41309167, -5.39528889, -5.37748611, -5.35968611, -5.34188333,\n",
       "        -5.42199167, -5.40418889, -5.38638889, -5.36858611, -5.35078611,\n",
       "        -5.33298333, -5.43089167, -5.41309167, -5.39528889, -5.37748611,\n",
       "        -5.35968611, -5.34188333, -5.42199167, -5.40418889, -5.38638889,\n",
       "        -5.36858611, -5.35078611, -5.33298333, -5.43089167, -5.41309167,\n",
       "        -5.39528889, -5.37748611, -5.35968611, -5.34188333, -5.42199167,\n",
       "        -5.40418889, -5.38638889, -5.36858611, -5.35078611, -5.33298333,\n",
       "        -5.43089167, -5.41309167, -5.39528889, -5.37748611, -5.35968611,\n",
       "        -5.34188333, -5.42199167, -5.40418889, -5.38638889, -5.36858611,\n",
       "        -5.35078611, -5.33298333, -5.43089167, -5.41309167, -5.39528889,\n",
       "        -5.37748611, -5.35968611, -5.34188333, -5.42199167, -5.40418889,\n",
       "        -5.38638889, -5.36858611, -5.35078611, -5.33298333, -5.43089167,\n",
       "        -5.41309167, -5.39528889, -5.37748611, -5.35968611, -5.34188333,\n",
       "        -5.42199167, -5.40418889, -5.38638889, -5.36858611, -5.35078611,\n",
       "        -5.33298333, -5.43089167, -5.41309167, -5.39528889, -5.37748611,\n",
       "        -5.35968611, -5.34188333, -5.42199167, -5.40418889, -5.38638889,\n",
       "        -5.36858611, -5.35078611, -5.33298333, -5.43089167, -5.41309167,\n",
       "        -5.39528889, -5.37748611, -5.35968611, -5.34188333, -5.42199167,\n",
       "        -5.40418889, -5.38638889, -5.36858611, -5.35078611, -5.33298333,\n",
       "        -5.43089167, -5.41309167, -5.39528889, -5.37748611, -5.35968611,\n",
       "        -5.34188333]))"
      ]
     },
     "execution_count": 177,
     "metadata": {},
     "output_type": "execute_result"
    }
   ],
   "source": [
    "nro_ra = nro_pntg_coords.ra.value\n",
    "nro_dec = nro_pntg_coords.dec.value\n",
    "nro_ind = np.lexsort((nro_dec,nro_ra))\n",
    "nro_ra = nro_ra[nro_ind]\n",
    "nro_dec = nro_dec[nro_ind]\n"
   ]
  },
  {
   "cell_type": "code",
   "execution_count": null,
   "metadata": {
    "collapsed": true
   },
   "outputs": [],
   "source": []
  }
 ],
 "metadata": {
  "kernelspec": {
   "display_name": "Python 3",
   "language": "python",
   "name": "python3"
  },
  "language_info": {
   "codemirror_mode": {
    "name": "ipython",
    "version": 3
   },
   "file_extension": ".py",
   "mimetype": "text/x-python",
   "name": "python",
   "nbconvert_exporter": "python",
   "pygments_lexer": "ipython3",
   "version": "3.4.4"
  }
 },
 "nbformat": 4,
 "nbformat_minor": 0
}
